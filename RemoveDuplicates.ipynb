{
 "cells": [
  {
   "cell_type": "code",
   "execution_count": 25,
   "metadata": {},
   "outputs": [
    {
     "name": "stdout",
     "output_type": "stream",
     "text": [
      "original length = 206\n",
      "new length = 27\n",
      "[['003' '1' '288' '425' '317' '479']\n",
      " ['018' '1' '2448' '3935' '2790' '4672']\n",
      " ['018' '1' '1853' '624' '2315' '1091']\n",
      " ['036' '1' '611' '447' '886' '782']\n",
      " ['043' '1' '703' '386' '3002' '2862']\n",
      " ['038' '1' '2421' '37' '2877' '548']\n",
      " ['038' '1' '2417' '67' '2869' '571']\n",
      " ['038' '1' '2422' '79' '2839' '628']\n",
      " ['038' '1' '2424' '74' '2836' '621']\n",
      " ['038' '1' '2415' '56' '2895' '601']\n",
      " ['038' '1' '2415' '59' '2894' '603']\n",
      " ['038' '1' '2416' '87' '2884' '623']\n",
      " ['038' '1' '2418' '43' '2881' '577']\n",
      " ['038' '1' '2413' '56' '2871' '591']\n",
      " ['038' '1' '2417' '61' '2801' '448']\n",
      " ['038' '1' '2410' '39' '2913' '614']\n",
      " ['038' '1' '2425' '7' '2802' '444']\n",
      " ['038' '1' '2423' '88' '2862' '569']\n",
      " ['038' '1' '2401' '82' '2859' '549']\n",
      " ['038' '1' '2427' '72' '2822' '594']\n",
      " ['038' '1' '2404' '32' '2821' '551']\n",
      " ['038' '1' '2434' '40' '2838' '450']\n",
      " ['038' '1' '2386' '72' '2844' '566']\n",
      " ['038' '1' '2419' '67' '2874' '561']\n",
      " ['056' '1' '422' '79' '490' '161']\n",
      " ['067' '1' '1534' '451' '1992' '1010']\n",
      " ['074' '1' '908' '470' '1376' '1037']]\n",
      "original length = 6\n",
      "new length = 2\n",
      "[['003' '1' '908' '805' '937' '842']\n",
      " ['018' '1' '1844' '3958' '2126' '4630']]\n",
      "original length = 5\n",
      "new length = 1\n",
      "[['018' '1' '1490' '3895' '1762' '4630']]\n"
     ]
    }
   ],
   "source": [
    "import numpy as np\n",
    "import remove_duplicates as rd\n",
    "\n",
    "input_path = 'unpruned_output/{}.txt'\n",
    "output_path = 'output/{}.txt'\n",
    "classes = ['waldo', 'wenda', 'wizard']\n",
    "for idx, classname in enumerate(classes) :\n",
    "\n",
    "    file = open(input_path.format(classname), 'r')\n",
    "    lines = file.readlines()\n",
    "    splitlines = [x.strip().split(' ') for x in lines]\n",
    "\n",
    "    print('original length = ' + str(len(splitlines)))\n",
    "\n",
    "    input_array = np.array([[float(z) for z in x[:]] for x in splitlines])\n",
    "    pruned = rd.remove_duplicates(input_array)\n",
    "\n",
    "    print('new length = ' + str(pruned.shape[0]))\n",
    "    print(pruned)\n",
    "    \n",
    "    output_file = open(output_path.format(classname), 'w')  \n",
    "    \n",
    "    for line in pruned:\n",
    "        output_string = line[0] + \" \" + line[1]+ \" \" + line[2] + \" \" + line[3] + \" \" + line[4] + \" \" + line[5] + \" \\n\"\n",
    "        output_file.write(output_string)\n",
    "    output_file.close()"
   ]
  },
  {
   "cell_type": "code",
   "execution_count": 22,
   "metadata": {},
   "outputs": [],
   "source": []
  },
  {
   "cell_type": "code",
   "execution_count": null,
   "metadata": {
    "collapsed": true
   },
   "outputs": [],
   "source": []
  }
 ],
 "metadata": {
  "kernelspec": {
   "display_name": "Python 3",
   "language": "python",
   "name": "python3"
  },
  "language_info": {
   "codemirror_mode": {
    "name": "ipython",
    "version": 3
   },
   "file_extension": ".py",
   "mimetype": "text/x-python",
   "name": "python",
   "nbconvert_exporter": "python",
   "pygments_lexer": "ipython3",
   "version": "3.5.6"
  }
 },
 "nbformat": 4,
 "nbformat_minor": 2
}

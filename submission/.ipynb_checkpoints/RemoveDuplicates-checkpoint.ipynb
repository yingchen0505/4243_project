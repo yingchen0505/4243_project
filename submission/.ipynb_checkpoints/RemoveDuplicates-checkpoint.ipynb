{
 "cells": [
  {
   "cell_type": "code",
   "execution_count": 1,
   "metadata": {},
   "outputs": [
    {
     "name": "stdout",
     "output_type": "stream",
     "text": [
      "original length = 212\n",
      "new length = 13\n",
      "[['003' '1' '288' '425' '317' '478']\n",
      " ['018' '1' '2443' '3923' '2776' '4676']\n",
      " ['018' '1' '1934' '652' '2313' '1065']\n",
      " ['043' '1' '678' '292' '2830' '2740']\n",
      " ['038' '1' '2418' '84' '2880' '553']\n",
      " ['038' '1' '2418' '56' '2881' '555']\n",
      " ['056' '1' '423' '81' '500' '171']\n",
      " ['067' '1' '1550' '477' '1971' '1022']\n",
      " ['074' '1' '890' '493' '1358' '1051']\n",
      " ['038' '1' '2394' '51' '2833' '507']\n",
      " ['038' '1' '2432' '53' '2830' '576']\n",
      " ['038' '1' '2429' '57' '2830' '579']\n",
      " ['038' '1' '5827' '2067' '6897' '2963']]\n",
      "original length = 7\n",
      "new length = 3\n",
      "[['003' '1' '908' '805' '937' '842']\n",
      " ['018' '1' '1847' '3952' '2124' '4626']\n",
      " ['038' '1' '5508' '2528' '5662' '2834']]\n",
      "original length = 5\n",
      "new length = 3\n",
      "[['018' '1' '1483' '3910' '1753' '4624']\n",
      " ['038' '1' '341' '5045' '774' '5649']\n",
      " ['074' '1' '2380' '2511' '2586' '2830']]\n"
     ]
    }
   ],
   "source": [
    "import numpy as np\n",
    "import remove_duplicates as rd\n",
    "\n",
    "input_path = 'unpruned_output/{}.txt'\n",
    "output_path = 'output/{}.txt'\n",
    "classes = ['waldo', 'wenda', 'wizard']\n",
    "for idx, classname in enumerate(classes) :\n",
    "\n",
    "    file = open(input_path.format(classname), 'r')\n",
    "    lines = file.readlines()\n",
    "    splitlines = [x.strip().split(' ') for x in lines]\n",
    "\n",
    "    print('original length = ' + str(len(splitlines)))\n",
    "\n",
    "    input_array = np.array([[float(z) for z in x[:]] for x in splitlines])\n",
    "    pruned = rd.remove_duplicates(input_array)\n",
    "\n",
    "    print('new length = ' + str(pruned.shape[0]))\n",
    "    print(pruned)\n",
    "    \n",
    "    output_file = open(output_path.format(classname), 'w')  \n",
    "    \n",
    "    for line in pruned:\n",
    "        output_string = line[0] + \" \" + line[1]+ \" \" + line[2] + \" \" + line[3] + \" \" + line[4] + \" \" + line[5] + \" \\n\"\n",
    "        output_file.write(output_string)\n",
    "    output_file.close()"
   ]
  },
  {
   "cell_type": "code",
   "execution_count": 22,
   "metadata": {
    "collapsed": true
   },
   "outputs": [],
   "source": []
  },
  {
   "cell_type": "code",
   "execution_count": null,
   "metadata": {
    "collapsed": true
   },
   "outputs": [],
   "source": []
  }
 ],
 "metadata": {
  "kernelspec": {
   "display_name": "Python 3",
   "language": "python",
   "name": "python3"
  },
  "language_info": {
   "codemirror_mode": {
    "name": "ipython",
    "version": 3
   },
   "file_extension": ".py",
   "mimetype": "text/x-python",
   "name": "python",
   "nbconvert_exporter": "python",
   "pygments_lexer": "ipython3",
   "version": "3.5.6"
  }
 },
 "nbformat": 4,
 "nbformat_minor": 2
}

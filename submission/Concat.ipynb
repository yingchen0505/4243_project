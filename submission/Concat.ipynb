{
 "cells": [
  {
   "cell_type": "code",
   "execution_count": 1,
   "metadata": {
    "collapsed": true
   },
   "outputs": [],
   "source": [
    "input_path1 = 'output1/{}.txt'\n",
    "input_path2 = 'output2/{}.txt'\n",
    "output_path = 'unpruned_output/{}.txt'\n",
    "classes = ['waldo', 'wenda', 'wizard']\n",
    "for idx, classname in enumerate(classes) :\n",
    "    input_file1 = open(input_path1.format(classname), 'r')\n",
    "    input_file2 = open(input_path2.format(classname), 'r')\n",
    "    with open(output_path.format(classname), 'w') as outfile:\n",
    "        outfile.write(input_file1.read())\n",
    "        outfile.write(input_file2.read())\n",
    "    outfile.close()"
   ]
  },
  {
   "cell_type": "code",
   "execution_count": null,
   "metadata": {
    "collapsed": true
   },
   "outputs": [],
   "source": []
  }
 ],
 "metadata": {
  "kernelspec": {
   "display_name": "Python 3",
   "language": "python",
   "name": "python3"
  },
  "language_info": {
   "codemirror_mode": {
    "name": "ipython",
    "version": 3
   },
   "file_extension": ".py",
   "mimetype": "text/x-python",
   "name": "python",
   "nbconvert_exporter": "python",
   "pygments_lexer": "ipython3",
   "version": "3.5.6"
  }
 },
 "nbformat": 4,
 "nbformat_minor": 2
}

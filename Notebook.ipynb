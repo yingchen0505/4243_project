{
 "cells": [
  {
   "cell_type": "code",
   "execution_count": 1,
   "metadata": {
    "scrolled": false
   },
   "outputs": [
    {
     "name": "stdout",
     "output_type": "stream",
     "text": [
      "waldo: 0.6923076923076923\n",
      "wenda: 0.29761904761904756\n",
      "wizard: 0.10897435897435898\n",
      "meanAP: 0.3663003663003663\n"
     ]
    }
   ],
   "source": [
    "%run -i evaluation"
   ]
  },
  {
   "cell_type": "code",
   "execution_count": null,
   "metadata": {
    "collapsed": true
   },
   "outputs": [],
   "source": [
    "%run -i vis_anno -imageID 007"
   ]
  },
  {
   "cell_type": "code",
   "execution_count": 21,
   "metadata": {
    "collapsed": true,
    "scrolled": true
   },
   "outputs": [],
   "source": [
    "%run -i find_waldo"
   ]
  },
  {
   "cell_type": "code",
   "execution_count": 4,
   "metadata": {},
   "outputs": [
    {
     "name": "stdout",
     "output_type": "stream",
     "text": [
      "[[[1197.5376    122.65297 ]]\n",
      "\n",
      " [[1211.4246    251.04881 ]]\n",
      "\n",
      " [[1311.6743    238.5898  ]]\n",
      "\n",
      " [[1302.2388    119.989716]]]\n",
      "(4, 1, 2)\n"
     ]
    }
   ],
   "source": [
    "print(dst)\n",
    "print(dst.shape)"
   ]
  },
  {
   "cell_type": "code",
   "execution_count": 23,
   "metadata": {
    "scrolled": true
   },
   "outputs": [
    {
     "name": "stdout",
     "output_type": "stream",
     "text": [
      "waldo: 0.0\n",
      "wenda: 0.0\n",
      "wizard: 0.0\n",
      "meanAP: 0.0\n"
     ]
    }
   ],
   "source": [
    "%run -i evaluation"
   ]
  },
  {
   "cell_type": "code",
   "execution_count": null,
   "metadata": {
    "collapsed": true
   },
   "outputs": [],
   "source": []
  }
 ],
 "metadata": {
  "kernelspec": {
   "display_name": "Python 3",
   "language": "python",
   "name": "python3"
  },
  "language_info": {
   "codemirror_mode": {
    "name": "ipython",
    "version": 3
   },
   "file_extension": ".py",
   "mimetype": "text/x-python",
   "name": "python",
   "nbconvert_exporter": "python",
   "pygments_lexer": "ipython3",
   "version": "3.5.6"
  }
 },
 "nbformat": 4,
 "nbformat_minor": 2
}

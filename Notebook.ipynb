{
 "cells": [
  {
   "cell_type": "code",
   "execution_count": 1,
   "metadata": {
    "scrolled": false
   },
   "outputs": [
    {
     "name": "stdout",
     "output_type": "stream",
     "text": [
      "waldo: 0.6923076923076923\n",
      "wenda: 0.29761904761904756\n",
      "wizard: 0.10897435897435898\n",
      "meanAP: 0.3663003663003663\n"
     ]
    }
   ],
   "source": [
    "%run -i evaluation"
   ]
  },
  {
   "cell_type": "code",
   "execution_count": null,
   "metadata": {
    "collapsed": true
   },
   "outputs": [],
   "source": [
    "%run -i vis_anno -imageID 074"
   ]
  },
  {
   "cell_type": "code",
   "execution_count": null,
   "metadata": {
    "scrolled": true
   },
   "outputs": [],
   "source": [
    "%run -i find_waldo"
   ]
  },
  {
   "cell_type": "code",
   "execution_count": 39,
   "metadata": {},
   "outputs": [
    {
     "name": "stdout",
     "output_type": "stream",
     "text": [
      "waldo: 0.21593797331866146\n",
      "wenda: 0.2857142857142857\n",
      "wizard: 0.3333333333333333\n",
      "meanAP: 0.2783285307887602\n"
     ]
    }
   ],
   "source": [
    "# After debugging, 0.85 ratio test accuracy with downsizing:\n",
    "%run -i evaluation"
   ]
  },
  {
   "cell_type": "code",
   "execution_count": 40,
   "metadata": {},
   "outputs": [
    {
     "name": "stdout",
     "output_type": "stream",
     "text": [
      "waldo: 0.23709502750443517\n",
      "wenda: 0.14285714285714285\n",
      "wizard: 0.3333333333333333\n",
      "meanAP: 0.23776183456497044\n"
     ]
    }
   ],
   "source": [
    "# After debugging, 0.75 ratio test accuracy with downsizing:\n",
    "%run -i evaluation"
   ]
  },
  {
   "cell_type": "code",
   "execution_count": 41,
   "metadata": {},
   "outputs": [
    {
     "name": "stdout",
     "output_type": "stream",
     "text": [
      "waldo: 0.284861932938856\n",
      "wenda: 0.2857142857142857\n",
      "wizard: 0.3333333333333333\n",
      "meanAP: 0.30130318399549166\n"
     ]
    }
   ],
   "source": [
    "# After debugging, 0.95 ratio test accuracy with downsizing:\n",
    "%run -i evaluation"
   ]
  },
  {
   "cell_type": "code",
   "execution_count": 60,
   "metadata": {
    "scrolled": true
   },
   "outputs": [
    {
     "name": "stdout",
     "output_type": "stream",
     "text": [
      "waldo: 0.3456059609905764\n",
      "wenda: 0.2857142857142857\n",
      "wizard: 0.3333333333333333\n",
      "meanAP: 0.32155119334606513\n"
     ]
    }
   ],
   "source": [
    "# After debugging, 0.85 ratio test accuracy with downsizing:\n",
    "# Pruned All\n",
    "%run -i evaluation"
   ]
  },
  {
   "cell_type": "code",
   "execution_count": 59,
   "metadata": {},
   "outputs": [
    {
     "name": "stdout",
     "output_type": "stream",
     "text": [
      "waldo: 0.3668390433096316\n",
      "wenda: 0.2857142857142857\n",
      "wizard: 0.3333333333333333\n",
      "meanAP: 0.32862888745241686\n"
     ]
    }
   ],
   "source": [
    "# After debugging, 0.95 ratio test accuracy with downsizing:\n",
    "# Pruned All\n",
    "%run -i evaluation"
   ]
  },
  {
   "cell_type": "code",
   "execution_count": 94,
   "metadata": {},
   "outputs": [
    {
     "name": "stdout",
     "output_type": "stream",
     "text": [
      "waldo: 0.26282051282051283\n",
      "wenda: 0.2857142857142857\n",
      "wizard: 0.16666666666666666\n",
      "meanAP: 0.23840048840048841\n"
     ]
    }
   ],
   "source": [
    "# Sliced bigger images:\n",
    "%run -i evaluation"
   ]
  },
  {
   "cell_type": "code",
   "execution_count": 97,
   "metadata": {},
   "outputs": [
    {
     "name": "stdout",
     "output_type": "stream",
     "text": [
      "waldo: 0.20192307692307693\n",
      "wenda: 0.2857142857142857\n",
      "wizard: 0.3333333333333333\n",
      "meanAP: 0.27365689865689863\n"
     ]
    }
   ],
   "source": [
    "# Sliced bigger images:\n",
    "# After pruned by area\n",
    "%run -i evaluation"
   ]
  },
  {
   "cell_type": "code",
   "execution_count": 95,
   "metadata": {
    "collapsed": true
   },
   "outputs": [],
   "source": [
    "# def polygon_area(corners):\n",
    "#     n = len(corners)  # of corners\n",
    "#     area = 0.0\n",
    "#     for i in range(n):\n",
    "#         j = (i + 1) % n\n",
    "#         area += corners[i][0] * corners[j][1]\n",
    "#         area -= corners[j][0] * corners[i][1]\n",
    "#     area = abs(area) / 2.0\n",
    "#     return area\n",
    "\n",
    "def polygon_area(corners):\n",
    "    area = (corners[2] - corners[0]) * (corners[3] - corners[1])\n",
    "    return area\n",
    "\n",
    "# if the bounding box is insanely small, it's not a legit box\n",
    "def is_too_small(pts):\n",
    "    box_area = polygon_area(pts)\n",
    "    if box_area < 100:\n",
    "        return True\n",
    "    else:\n",
    "        return False"
   ]
  },
  {
   "cell_type": "code",
   "execution_count": 96,
   "metadata": {},
   "outputs": [
    {
     "name": "stdout",
     "output_type": "stream",
     "text": [
      "original length = 26\n",
      "067 1 8324 6818 8324 6818 \n",
      "\n",
      "074 1 7123 5167 7123 5167 \n",
      "\n",
      "new length = 24\n",
      "original length = 3\n",
      "067 1 5993 1255 5993 1256 \n",
      "\n",
      "new length = 2\n",
      "original length = 3\n",
      "036 1 4249 2318 4261 2323 \n",
      "\n",
      "new length = 2\n"
     ]
    }
   ],
   "source": [
    "# Prune by area:\n",
    "input_path = 'output/{}.txt'\n",
    "output_path = 'output/{}.txt'\n",
    "classes = ['waldo', 'wenda', 'wizard']\n",
    "for idx, classname in enumerate(classes) :\n",
    "\n",
    "    file = open(input_path.format(classname), 'r')\n",
    "    lines = file.readlines()\n",
    "    splitlines = [x.strip().split(' ') for x in lines]\n",
    "    BB = np.array([[float(z) for z in x[2:]] for x in splitlines])\n",
    "\n",
    "    print('original length = ' + str(len(splitlines)))\n",
    "\n",
    "    pruned = []\n",
    "    \n",
    "    for index, line in enumerate(splitlines):\n",
    "        if not is_too_small(BB[index]):\n",
    "            pruned.append(line)\n",
    "        else:\n",
    "            print(line[0] + \" \" + line[1]+ \" \" + line[2] + \" \" + line[3] + \" \" + line[4] + \" \" + line[5] + \" \\n\")\n",
    "    \n",
    "    print('new length = ' + str(len(pruned)))\n",
    "    \n",
    "    output_file = open(output_path.format(classname), 'w')  \n",
    "    \n",
    "    for line in pruned:\n",
    "        output_string = line[0] + \" \" + line[1]+ \" \" + line[2] + \" \" + line[3] + \" \" + line[4] + \" \" + line[5] + \" \\n\"\n",
    "        output_file.write(output_string)\n",
    "    output_file.close()"
   ]
  },
  {
   "cell_type": "code",
   "execution_count": null,
   "metadata": {
    "collapsed": true
   },
   "outputs": [],
   "source": []
  }
 ],
 "metadata": {
  "kernelspec": {
   "display_name": "Python 3",
   "language": "python",
   "name": "python3"
  },
  "language_info": {
   "codemirror_mode": {
    "name": "ipython",
    "version": 3
   },
   "file_extension": ".py",
   "mimetype": "text/x-python",
   "name": "python",
   "nbconvert_exporter": "python",
   "pygments_lexer": "ipython3",
   "version": "3.5.6"
  }
 },
 "nbformat": 4,
 "nbformat_minor": 2
}

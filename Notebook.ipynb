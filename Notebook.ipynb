{
 "cells": [
  {
   "cell_type": "code",
   "execution_count": 1,
   "metadata": {
    "scrolled": false
   },
   "outputs": [
    {
     "name": "stdout",
     "output_type": "stream",
     "text": [
      "waldo: 0.6923076923076923\n",
      "wenda: 0.29761904761904756\n",
      "wizard: 0.10897435897435898\n",
      "meanAP: 0.3663003663003663\n"
     ]
    }
   ],
   "source": [
    "%run -i evaluation"
   ]
  },
  {
   "cell_type": "code",
   "execution_count": null,
   "metadata": {
    "collapsed": true
   },
   "outputs": [],
   "source": [
    "%run -i vis_anno -imageID 074"
   ]
  },
  {
   "cell_type": "code",
   "execution_count": null,
   "metadata": {
    "scrolled": true
   },
   "outputs": [],
   "source": [
    "%run -i find_waldo"
   ]
  },
  {
   "cell_type": "code",
   "execution_count": 39,
   "metadata": {},
   "outputs": [
    {
     "name": "stdout",
     "output_type": "stream",
     "text": [
      "waldo: 0.21593797331866146\n",
      "wenda: 0.2857142857142857\n",
      "wizard: 0.3333333333333333\n",
      "meanAP: 0.2783285307887602\n"
     ]
    }
   ],
   "source": [
    "# After debugging, 0.85 ratio test accuracy with downsizing:\n",
    "%run -i evaluation"
   ]
  },
  {
   "cell_type": "code",
   "execution_count": 40,
   "metadata": {},
   "outputs": [
    {
     "name": "stdout",
     "output_type": "stream",
     "text": [
      "waldo: 0.23709502750443517\n",
      "wenda: 0.14285714285714285\n",
      "wizard: 0.3333333333333333\n",
      "meanAP: 0.23776183456497044\n"
     ]
    }
   ],
   "source": [
    "# After debugging, 0.75 ratio test accuracy with downsizing:\n",
    "%run -i evaluation"
   ]
  },
  {
   "cell_type": "code",
   "execution_count": 41,
   "metadata": {},
   "outputs": [
    {
     "name": "stdout",
     "output_type": "stream",
     "text": [
      "waldo: 0.284861932938856\n",
      "wenda: 0.2857142857142857\n",
      "wizard: 0.3333333333333333\n",
      "meanAP: 0.30130318399549166\n"
     ]
    }
   ],
   "source": [
    "# After debugging, 0.95 ratio test accuracy with downsizing:\n",
    "%run -i evaluation"
   ]
  },
  {
   "cell_type": "code",
   "execution_count": 60,
   "metadata": {
    "scrolled": true
   },
   "outputs": [
    {
     "name": "stdout",
     "output_type": "stream",
     "text": [
      "waldo: 0.3456059609905764\n",
      "wenda: 0.2857142857142857\n",
      "wizard: 0.3333333333333333\n",
      "meanAP: 0.32155119334606513\n"
     ]
    }
   ],
   "source": [
    "# After debugging, 0.85 ratio test accuracy with downsizing:\n",
    "# Pruned All\n",
    "%run -i evaluation"
   ]
  },
  {
   "cell_type": "code",
   "execution_count": 59,
   "metadata": {},
   "outputs": [
    {
     "name": "stdout",
     "output_type": "stream",
     "text": [
      "waldo: 0.3668390433096316\n",
      "wenda: 0.2857142857142857\n",
      "wizard: 0.3333333333333333\n",
      "meanAP: 0.32862888745241686\n"
     ]
    }
   ],
   "source": [
    "# After debugging, 0.95 ratio test accuracy with downsizing:\n",
    "# Pruned All\n",
    "%run -i evaluation"
   ]
  },
  {
   "cell_type": "code",
   "execution_count": 94,
   "metadata": {
    "scrolled": true
   },
   "outputs": [
    {
     "name": "stdout",
     "output_type": "stream",
     "text": [
      "waldo: 0.26282051282051283\n",
      "wenda: 0.2857142857142857\n",
      "wizard: 0.16666666666666666\n",
      "meanAP: 0.23840048840048841\n"
     ]
    }
   ],
   "source": [
    "# Sliced bigger images:\n",
    "%run -i evaluation"
   ]
  },
  {
   "cell_type": "code",
   "execution_count": 98,
   "metadata": {},
   "outputs": [
    {
     "name": "stdout",
     "output_type": "stream",
     "text": [
      "waldo: 0.6692307692307693\n",
      "wenda: 0.2857142857142857\n",
      "wizard: 0.3333333333333333\n",
      "meanAP: 0.42942612942612945\n"
     ]
    }
   ],
   "source": [
    "# Covered all permutations for twisted box checking:\n",
    "# Before slicing\n",
    "%run -i evaluation"
   ]
  },
  {
   "cell_type": "code",
   "execution_count": null,
   "metadata": {
    "collapsed": true
   },
   "outputs": [],
   "source": []
  }
 ],
 "metadata": {
  "kernelspec": {
   "display_name": "Python 3",
   "language": "python",
   "name": "python3"
  },
  "language_info": {
   "codemirror_mode": {
    "name": "ipython",
    "version": 3
   },
   "file_extension": ".py",
   "mimetype": "text/x-python",
   "name": "python",
   "nbconvert_exporter": "python",
   "pygments_lexer": "ipython3",
   "version": "3.5.6"
  }
 },
 "nbformat": 4,
 "nbformat_minor": 2
}
